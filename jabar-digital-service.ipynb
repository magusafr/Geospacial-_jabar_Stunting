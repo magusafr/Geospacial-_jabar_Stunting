{
 "cells": [
  {
   "cell_type": "code",
   "execution_count": 2,
   "metadata": {},
   "outputs": [
    {
     "data": {
      "text/html": [
       "<script>\n",
       "code_show=true; \n",
       "function code_toggle() {\n",
       " if (code_show){\n",
       " $('div.input').hide();\n",
       " } else {\n",
       " $('div.input').show();\n",
       " }\n",
       " code_show = !code_show\n",
       "} \n",
       "$( document ).ready(code_toggle);\n",
       "</script>\n",
       "<form action=\"javascript:code_toggle()\"><input type=\"submit\" value=\"Click here to toggle on/off the raw code.\"></form>"
      ],
      "text/plain": [
       "<IPython.core.display.HTML object>"
      ]
     },
     "execution_count": 2,
     "metadata": {},
     "output_type": "execute_result"
    }
   ],
   "source": [
    "from IPython.display import HTML\n",
    "\n",
    "HTML('''<script>\n",
    "code_show=true; \n",
    "function code_toggle() {\n",
    " if (code_show){\n",
    " $('div.input').hide();\n",
    " } else {\n",
    " $('div.input').show();\n",
    " }\n",
    " code_show = !code_show\n",
    "} \n",
    "$( document ).ready(code_toggle);\n",
    "</script>\n",
    "<form action=\"javascript:code_toggle()\"><input type=\"submit\" value=\"Click here to toggle on/off the raw code.\"></form>''')"
   ]
  },
  {
   "cell_type": "markdown",
   "metadata": {},
   "source": [
    "<h1><center><font size=\"6\">Provinsi Jawa Barat</font></center></h1>\n",
    "\n",
    "<h2><center><font size=\"4\">Dataset used: Jabar Digital Service</font></center></h2>\n",
    "\n",
    "<br>\n",
    "# <a id='0'>Content</a>\n",
    "\n",
    "- <a href='#1'>Data</a>  \n",
    "- <a href='#2'>Peta Wilayah</a>  \n",
    "- <a href='#3'>Overview Stunting di Jawa Barat Secara Umum</a> \n",
    "- <a href='#4'>Overview Stunting di Jawa Barat Antar Tahun</a> \n",
    "- <a href='#5'>Overview Stunting di Jawa Barat Antar Kota</a> \n",
    "- <a href='#6'>Overview Stunting di Jawa Barat Antar Kabupaten</a> \n"
   ]
  },
  {
   "cell_type": "markdown",
   "metadata": {},
   "source": [
    "# <a id='1'>Data</a> "
   ]
  },
  {
   "cell_type": "code",
   "execution_count": null,
   "metadata": {
    "_cell_guid": "79c7e3d0-c299-4dcb-8224-4455121ee9b0",
    "_kg_hide-input": true,
    "_uuid": "d629ff2d2480ee46fbb7e2d37f6b5fab8052498a"
   },
   "outputs": [],
   "source": [
    "from IPython.display import HTML\n",
    "import pandas as pd\n",
    "import numpy as np\n",
    "import plotly.graph_objs as go\n",
    "import plotly.tools as tls\n",
    "import plotly.plotly as py\n",
    "import plotly.offline as py\n",
    "import squarify\n",
    "import seaborn as sns\n",
    "import geojson\n",
    "import IPython.display\n",
    "import geopandas as gpd\n",
    "import folium \n",
    "\n",
    "import matplotlib.pyplot as plt\n",
    "\n",
    "from descartes import PolygonPatch\n",
    "from mpl_toolkits.basemap import Basemap\n",
    "import warnings\n",
    "warnings.filterwarnings(\"ignore\")\n",
    "\n",
    "from subprocess import check_output\n",
    "print(check_output([\"ls\", \"../input\"]).decode(\"utf8\"))\n",
    "\n",
    "py.init_notebook_mode(connected=True)"
   ]
  },
  {
   "cell_type": "code",
   "execution_count": 2,
   "metadata": {
    "_kg_hide-input": true
   },
   "outputs": [],
   "source": [
    "soal = pd.read_csv('../input/Soal-01.csv')\n",
    "\n",
    "with open(\"../input/kota_kabupaten.geojson\") as json_file:\n",
    "    json_data = geojson.load(json_file)\n",
    "    \n",
    "fname = \"../input/kota_kabupaten.geojson\"\n",
    "df = gpd.read_file(fname)\n",
    "\n",
    "soal['kode_kota_kabupaten'] = soal['kode_kota_kabupaten'].astype('object')\n",
    "\n",
    "soal.columns = ['provinsi', 'bps_kode', 'nama_kota_kabupaten', 'tahun',\n",
    "       'prevalensi_stunting']\n",
    "\n",
    "soal['nama_kota_kabupaten'] = soal['nama_kota_kabupaten'].apply(lambda x :'Kabupaten Bekasi' if x == 'Kabupatenbekasi' else x)"
   ]
  },
  {
   "cell_type": "code",
   "execution_count": 3,
   "metadata": {
    "_kg_hide-input": true
   },
   "outputs": [
    {
     "data": {
      "text/html": [
       "<div>\n",
       "<style scoped>\n",
       "    .dataframe tbody tr th:only-of-type {\n",
       "        vertical-align: middle;\n",
       "    }\n",
       "\n",
       "    .dataframe tbody tr th {\n",
       "        vertical-align: top;\n",
       "    }\n",
       "\n",
       "    .dataframe thead th {\n",
       "        text-align: right;\n",
       "    }\n",
       "</style>\n",
       "<table border=\"1\" class=\"dataframe\">\n",
       "  <thead>\n",
       "    <tr style=\"text-align: right;\">\n",
       "      <th></th>\n",
       "      <th>provinsi</th>\n",
       "      <th>bps_kode</th>\n",
       "      <th>nama_kota_kabupaten</th>\n",
       "      <th>tahun</th>\n",
       "      <th>prevalensi_stunting</th>\n",
       "    </tr>\n",
       "  </thead>\n",
       "  <tbody>\n",
       "    <tr>\n",
       "      <th>0</th>\n",
       "      <td>JAWA BARAT</td>\n",
       "      <td>3201</td>\n",
       "      <td>Kabupaten Bogor</td>\n",
       "      <td>2015</td>\n",
       "      <td>26.223776</td>\n",
       "    </tr>\n",
       "    <tr>\n",
       "      <th>1</th>\n",
       "      <td>JAWA BARAT</td>\n",
       "      <td>3201</td>\n",
       "      <td>Kabupaten Bogor</td>\n",
       "      <td>2016</td>\n",
       "      <td>28.750000</td>\n",
       "    </tr>\n",
       "    <tr>\n",
       "      <th>2</th>\n",
       "      <td>JAWA BARAT</td>\n",
       "      <td>3201</td>\n",
       "      <td>Kabupaten Bogor</td>\n",
       "      <td>2017</td>\n",
       "      <td>28.440340</td>\n",
       "    </tr>\n",
       "    <tr>\n",
       "      <th>3</th>\n",
       "      <td>JAWA BARAT</td>\n",
       "      <td>3202</td>\n",
       "      <td>Kabupaten Sukabumi</td>\n",
       "      <td>2015</td>\n",
       "      <td>28.301887</td>\n",
       "    </tr>\n",
       "    <tr>\n",
       "      <th>4</th>\n",
       "      <td>JAWA BARAT</td>\n",
       "      <td>3202</td>\n",
       "      <td>Kabupaten Sukabumi</td>\n",
       "      <td>2016</td>\n",
       "      <td>25.242718</td>\n",
       "    </tr>\n",
       "  </tbody>\n",
       "</table>\n",
       "</div>"
      ],
      "text/plain": [
       "     provinsi bps_kode         ...          tahun  prevalensi_stunting\n",
       "0  JAWA BARAT     3201         ...           2015            26.223776\n",
       "1  JAWA BARAT     3201         ...           2016            28.750000\n",
       "2  JAWA BARAT     3201         ...           2017            28.440340\n",
       "3  JAWA BARAT     3202         ...           2015            28.301887\n",
       "4  JAWA BARAT     3202         ...           2016            25.242718\n",
       "\n",
       "[5 rows x 5 columns]"
      ]
     },
     "execution_count": 3,
     "metadata": {},
     "output_type": "execute_result"
    }
   ],
   "source": [
    "soal.head()"
   ]
  },
  {
   "cell_type": "markdown",
   "metadata": {},
   "source": [
    "Dari data diatas (Soal-01.csv), kita dapat melihat bahwa data pertama ialah data daerah-daerah di Jawa Barat beserta prevalensi_stunting mulai tahun 2015 sampai 2017. Ada 27 nama daerah yang berbeda baik kota maupun kabupaten di Jawa Barat."
   ]
  },
  {
   "cell_type": "code",
   "execution_count": 4,
   "metadata": {
    "_kg_hide-input": true
   },
   "outputs": [],
   "source": [
    "area = (pd.concat([df['kemendagri_nama'], df['geometry'].area], axis=1)).sort_values(0, ascending=False)\n",
    "\n",
    "#Area_km\n",
    "df_3857 = df.to_crs(epsg = 3857)\n",
    "area_km = df_3857.geometry.area / 10**6 \n",
    "\n",
    "# new_df\n",
    "new_df = pd.concat([df['bps_kode'], df['geometry'], df['geometry'].centroid , df['geometry'].centroid.y, df['geometry'].centroid.x, df['geometry'].area, pd.DataFrame(area_km)], axis=1)\n",
    "new_df.columns = ['bps_kode', 'geometry', 'center' ,'lat', 'lng', 'area', 'area_km']\n",
    "\n",
    "new_df['nama_daerah'] = df['kemendagri_nama']"
   ]
  },
  {
   "cell_type": "code",
   "execution_count": 5,
   "metadata": {
    "_kg_hide-input": true
   },
   "outputs": [],
   "source": [
    "# Table For Tabaleau\n",
    "geometry = []\n",
    "center = []\n",
    "lat = []\n",
    "lng = []\n",
    "area_ = []\n",
    "area_km = []\n",
    "bps_nama = []\n",
    "\n",
    "\n",
    "for x, y in enumerate(soal['bps_kode']):\n",
    "    for n, m in enumerate(new_df['bps_kode']):\n",
    "        if str(y) == str(m):\n",
    "            geometry.append(new_df.iloc[n,1])\n",
    "            center.append(new_df.iloc[n,2])\n",
    "            lat.append(new_df.iloc[n,3])\n",
    "            lng.append(new_df.iloc[n,4])\n",
    "            area_.append(new_df.iloc[n,5])\n",
    "            area_km.append(new_df.iloc[n,6])\n",
    "            \n",
    "soal['geometry'] = geometry\n",
    "soal['center'] = center\n",
    "soal['lat'] = lat\n",
    "soal['lng'] = lng\n",
    "soal['area'] = area_\n",
    "soal['area_km'] = area_km\n",
    "\n",
    "for x, y in enumerate(soal['bps_kode']):\n",
    "    for n, m in enumerate(df['bps_kode']):\n",
    "        if str(y) == str(m):\n",
    "            bps_nama.append(df.iloc[n,5])\n",
    "            \n",
    "soal['bps_nama'] = bps_nama"
   ]
  },
  {
   "cell_type": "markdown",
   "metadata": {},
   "source": [
    "# <a id='2'>Peta Wilayah</a> "
   ]
  },
  {
   "cell_type": "code",
   "execution_count": 6,
   "metadata": {
    "_kg_hide-input": true
   },
   "outputs": [
    {
     "data": {
      "text/html": [
       "<div>\n",
       "<style scoped>\n",
       "    .dataframe tbody tr th:only-of-type {\n",
       "        vertical-align: middle;\n",
       "    }\n",
       "\n",
       "    .dataframe tbody tr th {\n",
       "        vertical-align: top;\n",
       "    }\n",
       "\n",
       "    .dataframe thead th {\n",
       "        text-align: right;\n",
       "    }\n",
       "</style>\n",
       "<table border=\"1\" class=\"dataframe\">\n",
       "  <thead>\n",
       "    <tr style=\"text-align: right;\">\n",
       "      <th></th>\n",
       "      <th>id</th>\n",
       "      <th>id_provinsi</th>\n",
       "      <th>kemendagri_kode</th>\n",
       "      <th>kemendagri_nama</th>\n",
       "      <th>bps_kode</th>\n",
       "      <th>bps_nama</th>\n",
       "      <th>geometry</th>\n",
       "    </tr>\n",
       "  </thead>\n",
       "  <tbody>\n",
       "    <tr>\n",
       "      <th>0</th>\n",
       "      <td>177</td>\n",
       "      <td>13</td>\n",
       "      <td>32.02</td>\n",
       "      <td>KAB. SUKABUMI</td>\n",
       "      <td>3202</td>\n",
       "      <td>SUKABUMI</td>\n",
       "      <td>(POLYGON ((106.741523942441 -6.71556328298331,...</td>\n",
       "    </tr>\n",
       "    <tr>\n",
       "      <th>1</th>\n",
       "      <td>185</td>\n",
       "      <td>13</td>\n",
       "      <td>32.03</td>\n",
       "      <td>KAB. CIANJUR</td>\n",
       "      <td>3203</td>\n",
       "      <td>CIANJUR</td>\n",
       "      <td>(POLYGON ((107.230209481309 -6.60494007985326,...</td>\n",
       "    </tr>\n",
       "    <tr>\n",
       "      <th>2</th>\n",
       "      <td>179</td>\n",
       "      <td>13</td>\n",
       "      <td>32.05</td>\n",
       "      <td>KAB. GARUT</td>\n",
       "      <td>3205</td>\n",
       "      <td>GARUT</td>\n",
       "      <td>(POLYGON ((107.918159571828 -6.94759587691624,...</td>\n",
       "    </tr>\n",
       "    <tr>\n",
       "      <th>3</th>\n",
       "      <td>173</td>\n",
       "      <td>13</td>\n",
       "      <td>32.06</td>\n",
       "      <td>KAB. TASIKMALAYA</td>\n",
       "      <td>3206</td>\n",
       "      <td>TASIKMALAYA</td>\n",
       "      <td>(POLYGON ((108.354894556061 -7.35285623216097,...</td>\n",
       "    </tr>\n",
       "    <tr>\n",
       "      <th>4</th>\n",
       "      <td>176</td>\n",
       "      <td>13</td>\n",
       "      <td>32.08</td>\n",
       "      <td>KAB. KUNINGAN</td>\n",
       "      <td>3208</td>\n",
       "      <td>KUNINGAN</td>\n",
       "      <td>(POLYGON ((108.421057608645 -6.78413229067036,...</td>\n",
       "    </tr>\n",
       "  </tbody>\n",
       "</table>\n",
       "</div>"
      ],
      "text/plain": [
       "    id                        ...                                                                   geometry\n",
       "0  177                        ...                          (POLYGON ((106.741523942441 -6.71556328298331,...\n",
       "1  185                        ...                          (POLYGON ((107.230209481309 -6.60494007985326,...\n",
       "2  179                        ...                          (POLYGON ((107.918159571828 -6.94759587691624,...\n",
       "3  173                        ...                          (POLYGON ((108.354894556061 -7.35285623216097,...\n",
       "4  176                        ...                          (POLYGON ((108.421057608645 -6.78413229067036,...\n",
       "\n",
       "[5 rows x 7 columns]"
      ]
     },
     "execution_count": 6,
     "metadata": {},
     "output_type": "execute_result"
    }
   ],
   "source": [
    "df.head()"
   ]
  },
  {
   "cell_type": "code",
   "execution_count": 7,
   "metadata": {
    "_kg_hide-input": true
   },
   "outputs": [
    {
     "data": {
      "text/plain": [
       "<matplotlib.axes._subplots.AxesSubplot at 0x7fc01d9e19e8>"
      ]
     },
     "execution_count": 7,
     "metadata": {},
     "output_type": "execute_result"
    },
    {
     "data": {
      "image/png": "[encoded data removed]",
      "text/plain": [
       "<Figure size 720x432 with 1 Axes>"
      ]
     },
     "metadata": {},
     "output_type": "display_data"
    }
   ],
   "source": [
    "sns.set_style(\"darkgrid\")\n",
    "plt.figure(figsize=(10,6))\n",
    "sns.barplot(y=\"kemendagri_nama\", x=0, data=area)"
   ]
  },
  {
   "cell_type": "code",
   "execution_count": 8,
   "metadata": {
    "_kg_hide-input": true
   },
   "outputs": [
    {
     "data": {
      "text/html": [
       "<div style=\"width:100%;\"><div style=\"position:relative;width:100%;height:0;padding-bottom:60%;\"><iframe src=\"data:text/html;charset=utf-8;base64,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\" style=\"position:absolute;width:100%;height:100%;left:0;top:0;border:none !important;\" allowfullscreen webkitallowfullscreen mozallowfullscreen></iframe></div></div>"
      ],
      "text/plain": [
       "<folium.folium.Map at 0x7fc01d7256d8>"
      ]
     },
     "metadata": {},
     "output_type": "display_data"
    }
   ],
   "source": [
    "map_ = folium.Map(location = [-6.920386775511731, 107.60327763626293], zoom_start=8)\n",
    "#folium.GeoJson(jabar['geometry'][0]).add_to(map_)\n",
    "\n",
    "for row in new_df.iterrows():\n",
    "    row_values = row[1]\n",
    "    location = [row_values['lat'], row_values['lng']] \n",
    "    popup = popup = '<strong>' + row_values['nama_daerah'] + '</strong>'\n",
    "    marker = folium.Marker(location = location, popup = popup)\n",
    "    marker.add_to(map_)\n",
    "\n",
    "display(map_)"
   ]
  },
  {
   "cell_type": "markdown",
   "metadata": {},
   "source": [
    "Berdasarkan data geojson, kita dapat melihat bahwa Jawa Barat memiliki 27 daerah dengan 8 daerah merupakan Kota dan 19 daerah merupakan Kabupaten. Dari grafik pertama tersebut, dapat diketahui bahwa Kabupaten Sukabumi memiliki area terluas di Jawa Barat dan Kota Cirebon memiliki area terkecil.\n",
    "\n",
    "Bila dibandingkan antara Kabupaten dan Kota, maka Kabupaten terluas adalah Kabupaten Sukabumi dan Kabupaten terkecil ialah Kabupaten Purwakarta. Sedangkan Kota terluas ialah Kota Bekasi dan Kota terkecil ialah Kota Cirebon."
   ]
  },
  {
   "cell_type": "code",
   "execution_count": 9,
   "metadata": {
    "_kg_hide-input": true
   },
   "outputs": [],
   "source": [
    "soal_2015 = soal[soal['tahun']==2015]\n",
    "soal_2016 = soal[soal['tahun']==2016]\n",
    "soal_2017 = soal[soal['tahun']==2017]\n",
    "\n",
    "soal_all = soal['prevalensi_stunting'].describe().reset_index()\n",
    "soal_2015 = soal_2015['prevalensi_stunting'].describe().reset_index()\n",
    "soal_2016 = soal_2016['prevalensi_stunting'].describe().reset_index()\n",
    "soal_2017 = soal_2017['prevalensi_stunting'].describe().reset_index()\n",
    "\n",
    "soal_all['2015'] = soal_2015['prevalensi_stunting']\n",
    "soal_all['2016'] = soal_2016['prevalensi_stunting']\n",
    "soal_all['2017'] = soal_2017['prevalensi_stunting']\n",
    "\n",
    "soal_all.columns =['sum_statistic_stunting', 'all_year', '2015', '2016', '2017']"
   ]
  },
  {
   "cell_type": "markdown",
   "metadata": {},
   "source": [
    "# <a id='3'>Overview Stunting di Jawa Barat Secara Umum</a>"
   ]
  },
  {
   "cell_type": "code",
   "execution_count": 2,
   "metadata": {
    "_kg_hide-input": true
   },
   "outputs": [
    {
     "data": {
      "text/html": [
       "<div class='tableauPlaceholder' id='viz1558016101817' style='position: relative'><noscript><a href='#'><img alt=' ' src='https:&#47;&#47;public.tableau.com&#47;static&#47;images&#47;43&#47;43HJ7TX9W&#47;1_rss.png' style='border: none' /></a></noscript><object class='tableauViz'  style='display:none;'><param name='host_url' value='https%3A%2F%2Fpublic.tableau.com%2F' /> <param name='embed_code_version' value='3' /> <param name='path' value='shared&#47;43HJ7TX9W' /> <param name='toolbar' value='yes' /><param name='static_image' value='https:&#47;&#47;public.tableau.com&#47;static&#47;images&#47;43&#47;43HJ7TX9W&#47;1.png' /> <param name='animate_transition' value='yes' /><param name='display_static_image' value='yes' /><param name='display_spinner' value='yes' /><param name='display_overlay' value='yes' /><param name='display_count' value='yes' /><param name='filter' value='publish=yes' /></object></div>                <script type='text/javascript'>                    var divElement = document.getElementById('viz1558016101817');                    var vizElement = divElement.getElementsByTagName('object')[0];                    vizElement.style.width='100%';vizElement.style.height=(divElement.offsetWidth*0.75)+'px';                    var scriptElement = document.createElement('script');                    scriptElement.src = 'https://public.tableau.com/javascripts/api/viz_v1.js';                    vizElement.parentNode.insertBefore(scriptElement, vizElement);                </script>\n"
      ],
      "text/plain": [
       "<IPython.core.display.HTML object>"
      ]
     },
     "metadata": {},
     "output_type": "display_data"
    }
   ],
   "source": [
    "%%HTML \n",
    "<div class='tableauPlaceholder' id='viz1558016101817' style='position: relative'><noscript><a href='#'><img alt=' ' src='https:&#47;&#47;public.tableau.com&#47;static&#47;images&#47;43&#47;43HJ7TX9W&#47;1_rss.png' style='border: none' /></a></noscript><object class='tableauViz'  style='display:none;'><param name='host_url' value='https%3A%2F%2Fpublic.tableau.com%2F' /> <param name='embed_code_version' value='3' /> <param name='path' value='shared&#47;43HJ7TX9W' /> <param name='toolbar' value='yes' /><param name='static_image' value='https:&#47;&#47;public.tableau.com&#47;static&#47;images&#47;43&#47;43HJ7TX9W&#47;1.png' /> <param name='animate_transition' value='yes' /><param name='display_static_image' value='yes' /><param name='display_spinner' value='yes' /><param name='display_overlay' value='yes' /><param name='display_count' value='yes' /><param name='filter' value='publish=yes' /></object></div>                <script type='text/javascript'>                    var divElement = document.getElementById('viz1558016101817');                    var vizElement = divElement.getElementsByTagName('object')[0];                    vizElement.style.width='100%';vizElement.style.height=(divElement.offsetWidth*0.75)+'px';                    var scriptElement = document.createElement('script');                    scriptElement.src = 'https://public.tableau.com/javascripts/api/viz_v1.js';                    vizElement.parentNode.insertBefore(scriptElement, vizElement);                </script>"
   ]
  },
  {
   "cell_type": "markdown",
   "metadata": {},
   "source": [
    "Website untuk tableau:\n",
    "https://public.tableau.com/shared/43HJ7TX9W?:display_count=yes&:origin=viz_share_link"
   ]
  },
  {
   "cell_type": "markdown",
   "metadata": {},
   "source": [
    "Dari dashboard teresebut, kita dapat melihat 3 jenis visualisasi. Pertama, ialah visualisai yang berisi peta provinsi Jawa Barat dengan 27 daerah yang berbeda baik kota dan kabupaten. Kedua, merupakan visualisai prevalansi stunting berdasarkan tahun dan bps_nama cummulative dari tahun 2015 sampai 2017. Ketiga, merupakan visualisai prevalansi stunting berdasarkan tahun dan bps_nama beserta rata-rata prevalansi stunting se Jawa Barat. \n",
    "\n",
    "Di sebelah pojok kiri bawah, anda bisa memilih nama daerah yang hanya ingin anda lihat dan juga dapat memilih berdasarkan tahun. Selain memilih, anda juga dapat mengeclick secara langsung baik individual atau kelompok pada nama daerah di masing-masing table tersebut.\n",
    "\n",
    "Sekilas, CIANJUR memiliki nilai stunting cummulative tertinggi dan Kota Depok memiliki nilai stunting cummulative tererndah. Setiap tahunnya, dari tahun 2015 sampai tahun 2017 daerah-daerah yang ada di Jawa Barat mengalami penurunan dan juga kenaikan. Dapat terlihat pada dashboard diatas, bahwa pada tahun 2017 GARUT memiliki nilai stunting yang tertinggi yang mencolok serta kebanyakan nilai stunting setiap daerah pada tiap tahunnya diatas rata-rata nilai stunting Provinsi Jawa Barat (diatas garis average). "
   ]
  },
  {
   "cell_type": "markdown",
   "metadata": {},
   "source": [
    "## Histogram Pravelensi Stunting Jawa Barat"
   ]
  },
  {
   "cell_type": "code",
   "execution_count": 11,
   "metadata": {
    "_kg_hide-input": true
   },
   "outputs": [
    {
     "data": {
      "image/png": "[encoded data removed]",
      "text/plain": [
       "<Figure size 576x288 with 1 Axes>"
      ]
     },
     "metadata": {},
     "output_type": "display_data"
    }
   ],
   "source": [
    "soal = soal[['bps_nama', 'tahun', 'prevalensi_stunting']]\n",
    "\n",
    "plt.figure(figsize=(8,4))\n",
    "plt.title('Prevalensi Stunting Jawa Barat')\n",
    "ax = sns.distplot(soal['prevalensi_stunting'])\n",
    "sum_all = soal['prevalensi_stunting'].describe().reset_index().iloc[[0,1,2,3,5,7] ,:]\n",
    "sum_all.iloc[4, 0] = 'med'\n",
    "y = 0.065\n",
    "for a, b in zip(sum_all['index'], sum_all['prevalensi_stunting']):\n",
    "    if a == 'count':\n",
    "        ax.text(40, y, '=============\\n' + '=>    ' + str(a) + '  ' + \"{:,}\".format(round(b, 2)))\n",
    "    elif a == 'max':\n",
    "        y -= 0.005\n",
    "        ax.text(40, y, '=>    ' + str(a) + '  ' + \"{:,}\".format(round(b, 3)) + '\\n=============')\n",
    "    elif a == 'std':\n",
    "        ax.text(40, y, '=>    ' + str(a) + '    ' + \"{:,}\".format(round(b, 3)))\n",
    "    elif a == 'min':\n",
    "        ax.text(40, y, '=>    ' + str(a) + '   ' + \"{:,}\".format(round(b, 3)))\n",
    "    else:   \n",
    "        ax.text(40, y, '=>    ' + str(a) + '  ' + \"{:,}\".format(round(b, 3)))\n",
    "    y -= 0.004"
   ]
  },
  {
   "cell_type": "markdown",
   "metadata": {},
   "source": [
    "Dari grafik tersebut, terlihat bentuk histogram hampir seperti bentuk bel/normal distribusi yang artinya mean, median dan mode memiliki nilai yang hampir sama yaitu sekitar angka 26. Sehingga expektasi stunting di Jawa Barat adalah 26. Bila daerah yang ada di Jawa Barat memiliki angka di bawah 26 maka dapat dikatakan bahwa daerah tersebut berada di bawah rata-rata nilai stunting Jawa Barat. Sehingga dapat menjadi bahan evaluasi karena kinerja stunting daerah tersebut yang baik. Begitu juga dengan sebaliknya, jika angka stunting suatu daerah diatas 26 maka daerah tersebut perlu mendapatkan perhatian khusus karena melebihi angka rata-rata stunting di Jawa Barat.\n",
    "\n",
    "Kita dapat mengetahui bahwa data prevalensi stunting terdiri dari 81 angka yang berbeda dari setiap tahun 2015, 2016, 2017 dan dari setiap deerah-dearah yang berbeda yang ada di Jawa Barat. Rata-rata expektasi stunting yang terjadi di Jawa Barat adalah 26.55, dapat dikatakan bahwa daerah dibawah angka rata-rata tersebut baik dan buruk jika diatas angka 26.55.\n",
    "\n",
    "Standard deviasi Jawa Barat ialah 6.69 yang berarti bahwa (normal distribusi): \n",
    "1. Kebanyakan anak-anak (sekitar 68%) berada di range nilai stunting (19.86 - 33.24) atau memiliki nilai stunting 6.69 lebih tinggi sampai nilai stunting 6.69 lebih rendah dari rata-rata stunting di Jawa Barat  - satu standard deviasi. \n",
    "2. Kebanyakan anak-anak (sekitar 95%) berada di range nilai stunting (13.17 - 39.93) atau memiliki nilai stunting 13.38 lebih tinggi sampai nilai stunting 13.38 lebih rendah dari rata-rata stunting di Jawa Barat - dua standard deviasi. \n",
    "3. Kebanyakan anak-anak (sekitar 99.7%) berada di range nilai stunting (6.48 - 46.62) atau memiliki nilai stunting 20.07 lebih tinggi sampai nilai stunting 20.07 lebih rendah dari rata-rata stunting di Jawa Barat - tiga standard deviasi. \n",
    "\n",
    "Selama tahun 2015 sampai 2017, nilai terendah stanting ialah 7.8 yang terjadi pada tahun 2015 di Kota Depok. Sedangkan nilai tertinggi adalah 43.16 yang terjadi pada tahun 2017 di Kabupaten Garut."
   ]
  },
  {
   "cell_type": "markdown",
   "metadata": {},
   "source": [
    "# <a id='4'>Overview Stunting di Jawa Barat Antar Tahun</a>"
   ]
  },
  {
   "cell_type": "code",
   "execution_count": 12,
   "metadata": {},
   "outputs": [],
   "source": [
    "def selisih_kenaikan(soal):\n",
    "    nama = []\n",
    "    tahun_2015_2016 = []\n",
    "    tahun_2016_2017 = []\n",
    "    tahun_2015_2017 = []\n",
    "    pct_tahun_2015_2016 = []\n",
    "    pct_tahun_2016_2017 = []\n",
    "    pct_tahun_2015_2017 = []\n",
    "    baru = pd.DataFrame()\n",
    "    \n",
    "    for x, y in enumerate(list(soal['bps_nama'].unique())):\n",
    "        pertama = ((soal['prevalensi_stunting'][soal['bps_nama']==y]).iloc[1]) - ((soal['prevalensi_stunting'][soal['bps_nama']==y]).iloc[0])\n",
    "        kedua = ((soal['prevalensi_stunting'][soal['bps_nama']==y]).iloc[2]) - ((soal['prevalensi_stunting'][soal['bps_nama']==y]).iloc[1])\n",
    "        ketiga = ((soal['prevalensi_stunting'][soal['bps_nama']==y]).iloc[2]) - ((soal['prevalensi_stunting'][soal['bps_nama']==y]).iloc[0])\n",
    "        pct_pertama = (pertama / ((soal['prevalensi_stunting'][soal['bps_nama']==y]).iloc[0])) * 100\n",
    "        pct_kedua = (kedua / ((soal['prevalensi_stunting'][soal['bps_nama']==y]).iloc[1])) * 100\n",
    "        pct_ketiga = (ketiga / ((soal['prevalensi_stunting'][soal['bps_nama']==y]).iloc[0])) * 100\n",
    "        tahun_2015_2016.append(pertama)\n",
    "        tahun_2016_2017.append(kedua)\n",
    "        tahun_2015_2017.append(ketiga)\n",
    "        pct_tahun_2015_2016.append(pct_pertama)\n",
    "        pct_tahun_2016_2017.append(pct_kedua)\n",
    "        pct_tahun_2015_2017.append(pct_ketiga)\n",
    "        nama.append(y)\n",
    "\n",
    "    baru['bps_nama'] = nama\n",
    "    baru['Stunting_2015_2016'] = tahun_2015_2016\n",
    "    baru['Stunting_2016_2017'] = tahun_2016_2017\n",
    "    baru['Stunting_2015_2017'] = tahun_2015_2017\n",
    "    baru['%Stunting_2015_2016'] = pct_tahun_2015_2016\n",
    "    baru['%Stunting_2016_2017'] = pct_tahun_2016_2017\n",
    "    baru['%Stunting_2015_2017'] = pct_tahun_2015_2017\n",
    "    \n",
    "    return baru\n",
    "\n",
    "baru = selisih_kenaikan(soal)\n",
    "baru = baru[['bps_nama','%Stunting_2015_2016', '%Stunting_2016_2017',\n",
    "       '%Stunting_2015_2017']]"
   ]
  },
  {
   "cell_type": "code",
   "execution_count": 3,
   "metadata": {
    "_kg_hide-input": true
   },
   "outputs": [
    {
     "data": {
      "text/html": [
       "<div class='tableauPlaceholder' id='viz1558071577707' style='position: relative'><noscript><a href='#'><img alt=' ' src='https:&#47;&#47;public.tableau.com&#47;static&#47;images&#47;fi&#47;fix_jbr&#47;sum_stat&#47;1_rss.png' style='border: none' /></a></noscript><object class='tableauViz'  style='display:none;'><param name='host_url' value='https%3A%2F%2Fpublic.tableau.com%2F' /> <param name='embed_code_version' value='3' /> <param name='site_root' value='' /><param name='name' value='fix_jbr&#47;sum_stat' /><param name='tabs' value='no' /><param name='toolbar' value='yes' /><param name='static_image' value='https:&#47;&#47;public.tableau.com&#47;static&#47;images&#47;fi&#47;fix_jbr&#47;sum_stat&#47;1.png' /> <param name='animate_transition' value='yes' /><param name='display_static_image' value='yes' /><param name='display_spinner' value='yes' /><param name='display_overlay' value='yes' /><param name='display_count' value='yes' /></object></div>                <script type='text/javascript'>                    var divElement = document.getElementById('viz1558071577707');                    var vizElement = divElement.getElementsByTagName('object')[0];                    vizElement.style.width='983px';vizElement.style.height='663px';                    var scriptElement = document.createElement('script');                    scriptElement.src = 'https://public.tableau.com/javascripts/api/viz_v1.js';                    vizElement.parentNode.insertBefore(scriptElement, vizElement);                </script>\n"
      ],
      "text/plain": [
       "<IPython.core.display.HTML object>"
      ]
     },
     "metadata": {},
     "output_type": "display_data"
    }
   ],
   "source": [
    "%%HTML \n",
    "<div class='tableauPlaceholder' id='viz1558071577707' style='position: relative'><noscript><a href='#'><img alt=' ' src='https:&#47;&#47;public.tableau.com&#47;static&#47;images&#47;fi&#47;fix_jbr&#47;sum_stat&#47;1_rss.png' style='border: none' /></a></noscript><object class='tableauViz'  style='display:none;'><param name='host_url' value='https%3A%2F%2Fpublic.tableau.com%2F' /> <param name='embed_code_version' value='3' /> <param name='site_root' value='' /><param name='name' value='fix_jbr&#47;sum_stat' /><param name='tabs' value='no' /><param name='toolbar' value='yes' /><param name='static_image' value='https:&#47;&#47;public.tableau.com&#47;static&#47;images&#47;fi&#47;fix_jbr&#47;sum_stat&#47;1.png' /> <param name='animate_transition' value='yes' /><param name='display_static_image' value='yes' /><param name='display_spinner' value='yes' /><param name='display_overlay' value='yes' /><param name='display_count' value='yes' /></object></div>                <script type='text/javascript'>                    var divElement = document.getElementById('viz1558071577707');                    var vizElement = divElement.getElementsByTagName('object')[0];                    vizElement.style.width='983px';vizElement.style.height='663px';                    var scriptElement = document.createElement('script');                    scriptElement.src = 'https://public.tableau.com/javascripts/api/viz_v1.js';                    vizElement.parentNode.insertBefore(scriptElement, vizElement);                </script>"
   ]
  },
  {
   "cell_type": "markdown",
   "metadata": {},
   "source": [
    "Website untuk tableau:\n",
    "https://public.tableau.com/views/fix_jbr/summary_statistic?:embed=y&:display_count=yes&:origin=viz_share_link"
   ]
  },
  {
   "cell_type": "markdown",
   "metadata": {},
   "source": [
    "Secara umum setiap daerah di Jawa Barat mengalami perbedaan setiap tahunnya. Ada yang mengalami kenaikan stunting dan ada yang mengalami penurunan stunting. (visualisasi Selisih Stunting % per tahun (Jawa Barat)).\n",
    "\n",
    "### Urutan nilai terbaik daerah pada Tahun 2015 - 2016\n",
    "Urutan dari penurunan stunting terbaik ialah Tasikmalaya, Pangandaran, Garut, Majalengka, Ciamis, Cirebon, Kota Sukabumi, Sukabumi, Bekasi, Cianjur, Subang, Kota Cimahi, Indramayu, Kota Tasikmalaya, Bandung, Karawang, Bogor, Bandung Barat, Purwakarta, Sumedang, Kota Depok, Kota Bandung, Kota Banjar, Kota Cirebon, Kota Bekasi, dan Kota Bogor. \n",
    "\n",
    "### Urutan nilai terbaik daerah pada Tahun 2016 - 2017\n",
    "Urutan dari penurunan stunting terbaik ialah Kota Sukabumi, Kuningan, Cirebon, Majalengka, Cianjur, Tasikmalaya, Kota Bandung, Sumedang, Bekasi, Kota Cimahi, Ciamis, Bogor, Pangandaran, Purwakarta, Subang, Bandung Barat, Bandung, Kota Tasikmalaya, Kuningan, Kota Banjar, Indramayu, Kota Bekasi, Garut, Sukabumi, Kota Cirebon, Kota Depok, Kota Bogor.\n",
    "\n",
    "### Urutan nilai terbaik daerah pada Tahun 2015 - 2017\n",
    "Urutan dari penurunan stunting terbaik ialah Kota Sukabumi, Karawang, Kota Bandung, Sumedang, Kota Bekasi, Bogor, Purwakarta, Kota Banjar, Bandung Barat, Cianjur, Kota Cirebon, Cirebon, Kota Cimahi, Bekasi, Bandung, Kota Tasikmalaya, Majalengka, Subang, Indramayu, Kota Bogor, Ciamis, Tasikmalaya, Sukabumi, Pangandaran, Kota Depok, Garut.\n",
    "\n",
    "### Jawa Barat pada 2015 - 2016 Jawa Barat (1 Tahun)\n",
    "Pada visualisasi (Stunting mean) Jawa Barat mengalami selisih peningkatan rata-rata prosentasi stunting antar tahun yang relatif kecil yaitu 1.98% bila dibangkan dengan selisih tahun 2016-2017 atau 2015-2017. Standard deviasi Jawa Barat adalah 24.561 dari prosentasi rata-rata, yang berarti bahwa kenaikan-kenaikan prosentasi stunting di wilayah Jawa Barat berada di range -22.581 sampai 26.541 untuk satu standard deviasi. Range tersebut menunjukan bahwa beberapa daerah mengalami penurunan stunting dan beberapa daerah mengalami kenaikan stunting. Sehingga karena adanya daerah-daerah yang mengalami penurunan tersebut, membuat rata-rata prosentasi selisih peningkatan antar tahun menjadi kecil. \n",
    "\n",
    "### Jawa Barat pada 2016 - 2017 Jawa Barat (1 Tahun)\n",
    "Sedangkan dari tahun 2016 ke tahun 2017, kita dapat melihat bahwa peningkatan prosentasi yang terjadi pada tahun 2017 begitu tinggi yaitu 18.4% (naik 9.3 kali dari sebelumnya). Padahal pada tahun sebelumnya Provinsi Jawa Barat dapat menjaga kenaikan prosentase stunting di angka 1.98%. Standard deviasi pada waktu ini ialah 25.297 dari prosentase selisih rata-rata antar tahun (18.4%). Range untuk satu standard deviasi adalah -6.897 sampai 43.697. Dari range tersebut kita dapat mengetahui bahwa penurunan stunting di tahun ini begitu kecil yaitu -6.897 berbeda dari kurun waktu sebelumnya yaitu -22.581 pada range yang sama yaitu satu standard deviasi.\n",
    "\n",
    "### Jawa Barat pada 2015 - 2017 Jawa Barat (2 Tahun)\n",
    "\n",
    "Dari tahun 2015 sampai tahun 2017, Jawa Barat mengalami selisih prosentase peningkatan stunting di angka 18.61%. Kinerja pada tahun pertama amatlah bagus tetapi tidak dengan kinerja pada tahun kedua sehingga rata-rata selama 2 tahun menjadi tinggi. Dengan standard deviasi yang ada yaitu 32.756 kita dapat mengetahui bahwa selama 2 tahun peningkatan selisih nilai stunting untuk setiap daerah di Jawa Barat terjadi pada range -14.146 sampai 51.366 untuk satu standard deviasi. \n",
    "\n",
    "### Kesimpulan\n",
    "Pada tahun 2015 - 2016, Jawa Barat menurunkan nilai stunting yang ada di daerahnya akan tetapi pada tahun 2016 - 2017, Jawa Barat mengalami kenaikan nilai stunting sehingga mengalami penurunan kinerja."
   ]
  },
  {
   "cell_type": "markdown",
   "metadata": {},
   "source": [
    "# <a id='5'>Overview Stunting di Jawa Barat Antar Kota</a>"
   ]
  },
  {
   "cell_type": "markdown",
   "metadata": {},
   "source": [
    "Untuk mempermudah dalam mengevaluasi, maka mari kita coba membagi wilayah Jawa Barat berdasarkan kota dan kabupaten. Hal tersebut perlu dilakukan karena kota dan kabupaten memiliki karakteristik yang berbeda."
   ]
  },
  {
   "cell_type": "code",
   "execution_count": 14,
   "metadata": {
    "_kg_hide-input": true
   },
   "outputs": [],
   "source": [
    "list_kota = ['KOTA BOGOR',\n",
    " 'KOTA SUKABUMI',\n",
    " 'KOTA BANDUNG',\n",
    " 'KOTA CIREBON',\n",
    " 'KOTA BEKASI',\n",
    " 'KOTA DEPOK',\n",
    " 'KOTA CIMAHI',\n",
    " 'KOTA TASIKMALAYA',\n",
    " 'KOTA BANJAR']\n",
    "\n",
    "kota = soal[soal['bps_nama'].apply(lambda x: True if x in list_kota else False)]\n",
    "kabupaten = soal[soal['bps_nama'].apply(lambda x: True if x not in list_kota else False)]"
   ]
  },
  {
   "cell_type": "code",
   "execution_count": 4,
   "metadata": {
    "_kg_hide-input": true
   },
   "outputs": [
    {
     "data": {
      "text/html": [
       "<div class='tableauPlaceholder' id='viz1558016206345' style='position: relative'><noscript><a href='#'><img alt=' ' src='https:&#47;&#47;public.tableau.com&#47;static&#47;images&#47;WM&#47;WM75HM4ZT&#47;1_rss.png' style='border: none' /></a></noscript><object class='tableauViz'  style='display:none;'><param name='host_url' value='https%3A%2F%2Fpublic.tableau.com%2F' /> <param name='embed_code_version' value='3' /> <param name='path' value='shared&#47;WM75HM4ZT' /> <param name='toolbar' value='yes' /><param name='static_image' value='https:&#47;&#47;public.tableau.com&#47;static&#47;images&#47;WM&#47;WM75HM4ZT&#47;1.png' /> <param name='animate_transition' value='yes' /><param name='display_static_image' value='yes' /><param name='display_spinner' value='yes' /><param name='display_overlay' value='yes' /><param name='display_count' value='yes' /></object></div>                <script type='text/javascript'>                    var divElement = document.getElementById('viz1558016206345');                    var vizElement = divElement.getElementsByTagName('object')[0];                    vizElement.style.width='100%';vizElement.style.height=(divElement.offsetWidth*0.75)+'px';                    var scriptElement = document.createElement('script');                    scriptElement.src = 'https://public.tableau.com/javascripts/api/viz_v1.js';                    vizElement.parentNode.insertBefore(scriptElement, vizElement);                </script>\n"
      ],
      "text/plain": [
       "<IPython.core.display.HTML object>"
      ]
     },
     "metadata": {},
     "output_type": "display_data"
    }
   ],
   "source": [
    "%%HTML \n",
    "<div class='tableauPlaceholder' id='viz1558016206345' style='position: relative'><noscript><a href='#'><img alt=' ' src='https:&#47;&#47;public.tableau.com&#47;static&#47;images&#47;WM&#47;WM75HM4ZT&#47;1_rss.png' style='border: none' /></a></noscript><object class='tableauViz'  style='display:none;'><param name='host_url' value='https%3A%2F%2Fpublic.tableau.com%2F' /> <param name='embed_code_version' value='3' /> <param name='path' value='shared&#47;WM75HM4ZT' /> <param name='toolbar' value='yes' /><param name='static_image' value='https:&#47;&#47;public.tableau.com&#47;static&#47;images&#47;WM&#47;WM75HM4ZT&#47;1.png' /> <param name='animate_transition' value='yes' /><param name='display_static_image' value='yes' /><param name='display_spinner' value='yes' /><param name='display_overlay' value='yes' /><param name='display_count' value='yes' /></object></div>                <script type='text/javascript'>                    var divElement = document.getElementById('viz1558016206345');                    var vizElement = divElement.getElementsByTagName('object')[0];                    vizElement.style.width='100%';vizElement.style.height=(divElement.offsetWidth*0.75)+'px';                    var scriptElement = document.createElement('script');                    scriptElement.src = 'https://public.tableau.com/javascripts/api/viz_v1.js';                    vizElement.parentNode.insertBefore(scriptElement, vizElement);                </script>"
   ]
  },
  {
   "cell_type": "markdown",
   "metadata": {},
   "source": [
    "Website untuk tableau:\n",
    "https://public.tableau.com/shared/WM75HM4ZT?:display_count=yes&:origin=viz_share_link"
   ]
  },
  {
   "cell_type": "markdown",
   "metadata": {},
   "source": [
    "#### Kota Sukabumi Kota terbaik tahun 2015 - 2017\n",
    "Rata-rata stunting untuk setiap kota di Jawa Barat adalah 22.74. Kota yang memiliki nilai stunting yang lebih tinggi dari rata-rata kota ialah Kota Tasikmalaya, Kota Sukabumi, Kota Bandung, Kota Banjar, Kota Cirebon, dan Kota Cimahi. Sedangkan Kota yang berada di bawah rata-rata ialah Kota Bekasi, Kota Bogor, dan Kota Depok. Meskipun demikian, untuk mengevaluasi kinerja Kota digunakan selisih prosentase nilai stunting dalam kurun waktu tahun 2015 - 2017. Sehingga didapatkan inforamsi bahwa Kota Sukabumi yang memiliki rata-rata nilai stunting peringkat 2 tertinggi selama 3 tahun memiliki kinerja yang baik dalam tiga tahun ini yakni dengan mengalami penurunan nilai stunting secara berturut-turut dan hanya Kota Sukabumi yang bisa melakukannya baik antar kota dan kabupaten.\n",
    "\n",
    "#### Kota Bogor Kota terburuk tahun 2015 - 2017\n",
    "Kota Bogor memiliki nilai cummulative stunting terendah ketiga. Akan tetapi kinerja Kota Bogor selama tahun 2015 - 2017 tidaklah sebaik dengan kota-kota yang lainnya karena dari tahun 2015 sampai 2017 Kota Bogor menjadi Kota tertinggi yang dapat meningaktkan nilai stuntingnya. Selisih nilai prosentase dari tahun 2015 ke 2017 Kota Bogor ialah 140%."
   ]
  },
  {
   "cell_type": "markdown",
   "metadata": {},
   "source": [
    "# <a id='6'>Overview Stunting di Jawa Barat Antar Kabupaten</a>"
   ]
  },
  {
   "cell_type": "code",
   "execution_count": 5,
   "metadata": {
    "_kg_hide-input": true
   },
   "outputs": [
    {
     "data": {
      "text/html": [
       "<div class='tableauPlaceholder' id='viz1558018106891' style='position: relative'><noscript><a href='#'><img alt=' ' src='https:&#47;&#47;public.tableau.com&#47;static&#47;images&#47;CG&#47;CGR8S6HGY&#47;1_rss.png' style='border: none' /></a></noscript><object class='tableauViz'  style='display:none;'><param name='host_url' value='https%3A%2F%2Fpublic.tableau.com%2F' /> <param name='embed_code_version' value='3' /> <param name='path' value='shared&#47;CGR8S6HGY' /> <param name='toolbar' value='yes' /><param name='static_image' value='https:&#47;&#47;public.tableau.com&#47;static&#47;images&#47;CG&#47;CGR8S6HGY&#47;1.png' /> <param name='animate_transition' value='yes' /><param name='display_static_image' value='yes' /><param name='display_spinner' value='yes' /><param name='display_overlay' value='yes' /><param name='display_count' value='yes' /></object></div>                <script type='text/javascript'>                    var divElement = document.getElementById('viz1558018106891');                    var vizElement = divElement.getElementsByTagName('object')[0];                    vizElement.style.width='100%';vizElement.style.height=(divElement.offsetWidth*0.75)+'px';                    var scriptElement = document.createElement('script');                    scriptElement.src = 'https://public.tableau.com/javascripts/api/viz_v1.js';                    vizElement.parentNode.insertBefore(scriptElement, vizElement);                </script>\n"
      ],
      "text/plain": [
       "<IPython.core.display.HTML object>"
      ]
     },
     "metadata": {},
     "output_type": "display_data"
    }
   ],
   "source": [
    "%%HTML\n",
    "<div class='tableauPlaceholder' id='viz1558018106891' style='position: relative'><noscript><a href='#'><img alt=' ' src='https:&#47;&#47;public.tableau.com&#47;static&#47;images&#47;CG&#47;CGR8S6HGY&#47;1_rss.png' style='border: none' /></a></noscript><object class='tableauViz'  style='display:none;'><param name='host_url' value='https%3A%2F%2Fpublic.tableau.com%2F' /> <param name='embed_code_version' value='3' /> <param name='path' value='shared&#47;CGR8S6HGY' /> <param name='toolbar' value='yes' /><param name='static_image' value='https:&#47;&#47;public.tableau.com&#47;static&#47;images&#47;CG&#47;CGR8S6HGY&#47;1.png' /> <param name='animate_transition' value='yes' /><param name='display_static_image' value='yes' /><param name='display_spinner' value='yes' /><param name='display_overlay' value='yes' /><param name='display_count' value='yes' /></object></div>                <script type='text/javascript'>                    var divElement = document.getElementById('viz1558018106891');                    var vizElement = divElement.getElementsByTagName('object')[0];                    vizElement.style.width='100%';vizElement.style.height=(divElement.offsetWidth*0.75)+'px';                    var scriptElement = document.createElement('script');                    scriptElement.src = 'https://public.tableau.com/javascripts/api/viz_v1.js';                    vizElement.parentNode.insertBefore(scriptElement, vizElement);                </script>"
   ]
  },
  {
   "cell_type": "markdown",
   "metadata": {},
   "source": [
    "Website untuk tableau:\n",
    "https://public.tableau.com/shared/CGR8S6HGY?:display_count=yes&:origin=viz_share_link"
   ]
  },
  {
   "cell_type": "markdown",
   "metadata": {},
   "source": [
    "#### Karawang Kabupaten terbaik tahun 2015 - 2017\n",
    "Rata-rata stunting untuk setiap kabupaten di Jawa Barat adalah 28.47. Kota yang memiliki nilai stunting dari yang tertinggi ialah Cianjur, Bandung, Garut, Bandung Barat, Sukabumi, Tasikmalaya, Purwakarta, Majalengka, Sumedang, Karawang, Kuningan, Bogor, cirebon, ciamis, Indramayu, Pangandaran, Subang, Bekasi. Karawang menampati posisi kesepuluh nilai rata-rata stunting tertinggi. Tetapi dari tahun 2015 ke 2017 Karawang berhasil menjadi yang terbaik dalam mengurangi nilai stunting yaitu menurunkan sebesar 11.3%. Meskipun pada tahun 2015 - 2016 mengalami kenaikan nilai stunting sebesar 2.6%.\n",
    "\n",
    "#### Sukabumi Kabupaten terburuk tahun 2015 - 2017\n",
    "Sukabumi memiliki nilai cummulative stunting tertinggi kelima. Kinerja Sukabumi selama tahun 2015 - 2017 tidaklah sebaik dengan kota-kota yang lainnya karena dari tahun 2015 sampai 2017 Sukabumi menjadi kabupaten tertinggi yang mengalami peningkatan stunting. Selisih nilai prosentase dari tahun 2015 ke 2017 Sukabumi ialah 32.9%."
   ]
  },
  {
   "cell_type": "code",
   "execution_count": 17,
   "metadata": {},
   "outputs": [],
   "source": []
  }
 ],
 "metadata": {
  "kernelspec": {
   "display_name": "Python 3",
   "language": "python",
   "name": "python3"
  },
  "language_info": {
   "codemirror_mode": {
    "name": "ipython",
    "version": 3
   },
   "file_extension": ".py",
   "mimetype": "text/x-python",
   "name": "python",
   "nbconvert_exporter": "python",
   "pygments_lexer": "ipython3",
   "version": "3.7.1"
  }
 },
 "nbformat": 4,
 "nbformat_minor": 1
}
